{
 "cells": [
  {
   "cell_type": "code",
   "execution_count": null,
   "metadata": {},
   "outputs": [],
   "source": [
    "import pandas as pd\n",
    "import numpy as np\n",
    "import matplotlib.pyplot as plt"
   ]
  },
  {
   "cell_type": "markdown",
   "metadata": {},
   "source": [
    "ETAPA 1"
   ]
  },
  {
   "cell_type": "code",
   "execution_count": null,
   "metadata": {},
   "outputs": [],
   "source": [
    "mexico=pd.read_csv(\"DF_Mexico.csv\")\n",
    "mexico.info()"
   ]
  },
  {
   "cell_type": "code",
   "execution_count": null,
   "metadata": {},
   "outputs": [],
   "source": [
    "# selecting integer valued columns\n",
    "mm=mexico.select_dtypes(include=[\"object\"])\n",
    "#mm.info()\n",
    "nn=mexico.select_dtypes(include=[\"float\"])\n",
    "cc=mexico.select_dtypes(include=[\"int64\"])\n",
    "cr=pd.concat([cc,nn], axis=1)\n",
    "cr.info()"
   ]
  },
  {
   "cell_type": "code",
   "execution_count": null,
   "metadata": {},
   "outputs": [],
   "source": [
    "pd.set_option('display.max_columns', None)\n",
    "pd.set_option('display.max_rows', None)\n",
    "\n",
    "valores=mm.isnull().sum()\n",
    "valores\n",
    "\n"
   ]
  },
  {
   "cell_type": "markdown",
   "metadata": {},
   "source": [
    "Para esta parte de la limpieza se genera un estilo a base de indicadores, ya que, no se conocen las variables reales, y al ser de tipo str no es posible predecirlas con otras."
   ]
  },
  {
   "cell_type": "code",
   "execution_count": null,
   "metadata": {},
   "outputs": [],
   "source": [
    "mm2=mm.copy()\n",
    "mm2[\"name\"]=mm2[\"name\"].fillna(\"Desconocido\")\n",
    "\n",
    "valores=mm2.isnull().sum()\n",
    "valores"
   ]
  },
  {
   "cell_type": "code",
   "execution_count": null,
   "metadata": {},
   "outputs": [],
   "source": [
    "\n",
    "mm2[\"description\"]=mm2[\"description\"].fillna(\"No se tiene descripcion\")\n",
    "\n",
    "valores=mm2.isnull().sum()\n",
    "valores"
   ]
  },
  {
   "cell_type": "code",
   "execution_count": null,
   "metadata": {},
   "outputs": [],
   "source": [
    "mm2[\"property_type\"]=mm2[\"property_type\"].fillna(\"Desconocido\")\n",
    "\n",
    "valores=mm2.isnull().sum()\n",
    "valores"
   ]
  },
  {
   "cell_type": "code",
   "execution_count": null,
   "metadata": {},
   "outputs": [],
   "source": [
    "mm2[\"neighborhood_overview\"]=mm2[\"neighborhood_overview\"].fillna(\"Desconocido\")\n",
    "\n",
    "valores=mm2.isnull().sum()\n",
    "valores"
   ]
  },
  {
   "cell_type": "code",
   "execution_count": null,
   "metadata": {},
   "outputs": [],
   "source": [
    "mm2[\"host_location\"]=mm2[\"host_location\"].fillna(\"Desconocido\")\n",
    "\n",
    "valores=mm2.isnull().sum()\n",
    "valores"
   ]
  },
  {
   "cell_type": "code",
   "execution_count": null,
   "metadata": {},
   "outputs": [],
   "source": [
    "mm2[\"host_about\"]=mm2[\"host_about\"].fillna(\"Sin descripcion\")\n",
    "\n",
    "valores=mm2.isnull().sum()\n",
    "valores"
   ]
  },
  {
   "cell_type": "code",
   "execution_count": null,
   "metadata": {},
   "outputs": [],
   "source": [
    "mm2[\"host_response_time\"]=mm2[\"host_response_time\"].fillna(\"Desconocido\")\n",
    "\n",
    "valores=mm2.isnull().sum()\n",
    "valores"
   ]
  },
  {
   "cell_type": "code",
   "execution_count": null,
   "metadata": {},
   "outputs": [],
   "source": [
    "mm2[\"host_response_rate\"]=mm2[\"host_response_rate\"].fillna(\"Indefinido\")\n",
    "\n",
    "valores=mm2.isnull().sum()\n",
    "valores"
   ]
  },
  {
   "cell_type": "code",
   "execution_count": null,
   "metadata": {},
   "outputs": [],
   "source": [
    "mm2[\"host_acceptance_rate\"]=mm2[\"host_acceptance_rate\"].fillna(\"0%\")\n",
    "\n",
    "valores=mm2.isnull().sum()\n",
    "valores"
   ]
  },
  {
   "cell_type": "code",
   "execution_count": null,
   "metadata": {},
   "outputs": [],
   "source": [
    "mm2[\"host_is_superhost\"]=mm2[\"host_is_superhost\"].fillna(\"Desconocido\")\n",
    "\n",
    "valores=mm2.isnull().sum()\n",
    "valores"
   ]
  },
  {
   "cell_type": "code",
   "execution_count": null,
   "metadata": {},
   "outputs": [],
   "source": [
    "mm2[\"host_neighbourhood\"]=mm2[\"host_neighbourhood\"].fillna(\"Desconocido\")\n",
    "\n",
    "valores=mm2.isnull().sum()\n",
    "valores"
   ]
  },
  {
   "cell_type": "code",
   "execution_count": null,
   "metadata": {},
   "outputs": [],
   "source": [
    "mm2[\"neighbourhood\"]=mm2[\"neighbourhood\"].fillna(\"Desconocido\")\n",
    "\n",
    "valores=mm2.isnull().sum()\n",
    "valores"
   ]
  },
  {
   "cell_type": "code",
   "execution_count": null,
   "metadata": {},
   "outputs": [],
   "source": [
    "mm2[\"first_review\"]=mm2[\"first_review\"].fillna(\"Desconocido\")\n",
    "\n",
    "valores=mm2.isnull().sum()\n",
    "valores"
   ]
  },
  {
   "cell_type": "code",
   "execution_count": null,
   "metadata": {},
   "outputs": [],
   "source": [
    "mm2[\"last_review\"]=mm2[\"last_review\"].fillna(\"Desconocido\")\n",
    "\n",
    "valores=mm2.isnull().sum()\n",
    "valores"
   ]
  },
  {
   "cell_type": "markdown",
   "metadata": {},
   "source": [
    "Iniciaremos con la limpieza de datos numéricos, esta se basa en identificar outliers y eliminar valores nulos que se encuentran dentro de la base de datos propuesta."
   ]
  },
  {
   "cell_type": "code",
   "execution_count": null,
   "metadata": {},
   "outputs": [],
   "source": [
    "valores=cr.isnull().sum()\n",
    "valores"
   ]
  },
  {
   "cell_type": "code",
   "execution_count": null,
   "metadata": {},
   "outputs": [],
   "source": [
    "y=cr\n",
    "\n",
    "percentile25=y.quantile(0.25) #Q1\n",
    "percentile75=y.quantile(0.75) #Q3\n",
    "iqr= percentile75 - percentile25\n",
    "\n",
    "LimiteS1_iqr= percentile75 + 1.5*iqr\n",
    "LimiteI1_iqr= percentile25 - 1.5*iqr\n",
    "print(\"Limite superior permitido\", LimiteS1_iqr)\n",
    "print(\"Limite inferior permitido\", LimiteI1_iqr)\n",
    "\n",
    "outlier= cr[(y>LimiteS1_iqr)|(y<LimiteI1_iqr)]\n",
    "outlier\n",
    "\n",
    "cr2= cr[(y<=LimiteS1_iqr)&(y>=LimiteI1_iqr)]\n",
    "cr2\n"
   ]
  },
  {
   "cell_type": "code",
   "execution_count": null,
   "metadata": {},
   "outputs": [],
   "source": [
    "valores=cr2.isnull().sum()\n",
    "valores"
   ]
  },
  {
   "cell_type": "markdown",
   "metadata": {},
   "source": [
    "Eliminaremos las variables que todos los datos se encuentran vacíos, como es el caso de bathrooms, neighbourhood_group_cleansed, calendar_updated and license. "
   ]
  },
  {
   "cell_type": "code",
   "execution_count": null,
   "metadata": {},
   "outputs": [],
   "source": [
    "aa=cr2.groupby([\"bathrooms\"])[\"bathrooms\"].count()\n",
    "aa2=cr2.groupby([\"neighbourhood_group_cleansed\"])[\"neighbourhood_group_cleansed\"].count()\n",
    "aa3=cr2.groupby([\"calendar_updated\"])[\"calendar_updated\"].count()\n",
    "aa4=cr2.groupby([\"license\"])[\"license\"].count()\n",
    "print(aa)\n",
    "print(aa2)\n",
    "print(aa3)\n",
    "print(aa4)\n"
   ]
  },
  {
   "cell_type": "code",
   "execution_count": null,
   "metadata": {},
   "outputs": [],
   "source": [
    "cr3=cr2.drop([\"bathrooms\",\"neighbourhood_group_cleansed\",\"calendar_updated\",\"license\"], axis=1)\n",
    "valores=cr3.isnull().sum()\n",
    "valores"
   ]
  },
  {
   "cell_type": "markdown",
   "metadata": {},
   "source": [
    "Utilizaremos diferentes casos en cada variable, la mayoría pueden ser limpiados con el promedio, sin embargo, es factible utilizar valores anteriores o posteriores para el llenado de los maximos."
   ]
  },
  {
   "cell_type": "code",
   "execution_count": null,
   "metadata": {},
   "outputs": [],
   "source": [
    "cr3[\"host_listings_count\"]=cr3[\"host_listings_count\"].fillna(round(cr3[\"host_listings_count\"].mean(),2))\n",
    "valores=cr3.isnull().sum()\n",
    "valores"
   ]
  },
  {
   "cell_type": "code",
   "execution_count": null,
   "metadata": {},
   "outputs": [],
   "source": [
    "cr3[\"host_total_listings_count\"]=cr3[\"host_total_listings_count\"].fillna(round(cr3[\"host_total_listings_count\"].mean(),2))\n",
    "valores=cr3.isnull().sum()\n",
    "valores"
   ]
  },
  {
   "cell_type": "code",
   "execution_count": null,
   "metadata": {},
   "outputs": [],
   "source": [
    "cr3[\"bathrooms1\"]=cr3[\"bathrooms1\"].fillna(round(cr3[\"bathrooms1\"].mean(),2))\n",
    "valores=cr3.isnull().sum()\n",
    "valores"
   ]
  },
  {
   "cell_type": "code",
   "execution_count": null,
   "metadata": {},
   "outputs": [],
   "source": [
    "cr3[\"accommodates\"]=cr3[\"accommodates\"].fillna(round(cr3[\"accommodates\"].mean(),2))\n",
    "valores=cr3.isnull().sum()\n",
    "valores"
   ]
  },
  {
   "cell_type": "code",
   "execution_count": null,
   "metadata": {},
   "outputs": [],
   "source": [
    "cr3[\"number_of_reviews\"]=cr3[\"number_of_reviews\"].fillna(round(cr3[\"number_of_reviews\"].mean(),2))\n",
    "valores=cr3.isnull().sum()\n",
    "valores"
   ]
  },
  {
   "cell_type": "code",
   "execution_count": null,
   "metadata": {},
   "outputs": [],
   "source": [
    "cr3[\"number_of_reviews_ltm\"]=cr3[\"number_of_reviews_ltm\"].fillna(round(cr3[\"number_of_reviews_ltm\"].mean(),2))\n",
    "valores=cr3.isnull().sum()\n",
    "valores"
   ]
  },
  {
   "cell_type": "code",
   "execution_count": null,
   "metadata": {},
   "outputs": [],
   "source": [
    "cr3[\"number_of_reviews_l30d\"]=cr3[\"number_of_reviews_l30d\"].fillna(round(cr3[\"number_of_reviews_l30d\"].mean(),2))\n",
    "valores=cr3.isnull().sum()\n",
    "valores"
   ]
  },
  {
   "cell_type": "code",
   "execution_count": null,
   "metadata": {},
   "outputs": [],
   "source": [
    "cr3[\"calculated_host_listings_count\"]=cr3[\"calculated_host_listings_count\"].fillna(round(cr3[\"calculated_host_listings_count\"].mean(),2))\n",
    "valores=cr3.isnull().sum()\n",
    "valores"
   ]
  },
  {
   "cell_type": "code",
   "execution_count": null,
   "metadata": {},
   "outputs": [],
   "source": [
    "cr3[\"calculated_host_listings_count_entire_homes\"]=cr3[\"calculated_host_listings_count_entire_homes\"].fillna(round(cr3[\"calculated_host_listings_count_entire_homes\"].mean(),2))\n",
    "valores=cr3.isnull().sum()\n",
    "valores"
   ]
  },
  {
   "cell_type": "code",
   "execution_count": null,
   "metadata": {},
   "outputs": [],
   "source": [
    "cr3[\"calculated_host_listings_count_private_rooms\"]=cr3[\"calculated_host_listings_count_private_rooms\"].fillna(round(cr3[\"calculated_host_listings_count_private_rooms\"].mean(),2))\n",
    "valores=cr3.isnull().sum()\n",
    "valores"
   ]
  },
  {
   "cell_type": "code",
   "execution_count": null,
   "metadata": {},
   "outputs": [],
   "source": [
    "cr3[\"calculated_host_listings_count_shared_rooms\"]=cr3[\"calculated_host_listings_count_shared_rooms\"].fillna(round(cr3[\"calculated_host_listings_count_shared_rooms\"].mean(),2))\n",
    "valores=cr3.isnull().sum()\n",
    "valores"
   ]
  },
  {
   "cell_type": "code",
   "execution_count": null,
   "metadata": {},
   "outputs": [],
   "source": [
    "cr3[\"latitude\"]=cr3[\"latitude\"].fillna(round(cr3[\"latitude\"].mean(),2))\n",
    "valores=cr3.isnull().sum()\n",
    "valores"
   ]
  },
  {
   "cell_type": "code",
   "execution_count": null,
   "metadata": {},
   "outputs": [],
   "source": [
    "cr3[\"longitude\"]=cr3[\"longitude\"].fillna(round(cr3[\"longitude\"].mean(),2))\n",
    "valores=cr3.isnull().sum()\n",
    "valores"
   ]
  },
  {
   "cell_type": "code",
   "execution_count": null,
   "metadata": {},
   "outputs": [],
   "source": [
    "cr3[\"bedrooms\"]=cr3[\"bedrooms\"].fillna(round(cr3[\"bedrooms\"].mean(),2))\n",
    "valores=cr3.isnull().sum()\n",
    "valores"
   ]
  },
  {
   "cell_type": "code",
   "execution_count": null,
   "metadata": {},
   "outputs": [],
   "source": [
    "cr3[\"beds\"]=cr3[\"beds\"].fillna(round(cr3[\"beds\"].mean(),2))\n",
    "valores=cr3.isnull().sum()\n",
    "valores"
   ]
  },
  {
   "cell_type": "markdown",
   "metadata": {},
   "source": [
    "Comenzamos a llenar los datos nulos faltantes con la tendencia del valor delante del espacio nulo. Esto nos ayuda en las variables que hablan de máximos o mínimos."
   ]
  },
  {
   "cell_type": "code",
   "execution_count": null,
   "metadata": {},
   "outputs": [],
   "source": [
    "cr3[\"minimum_minimum_nights\"] =cr3[\"minimum_minimum_nights\"].fillna(method=\"ffill\")\n",
    "valores=cr3.isnull().sum()\n",
    "valores \n"
   ]
  },
  {
   "cell_type": "code",
   "execution_count": null,
   "metadata": {},
   "outputs": [],
   "source": [
    "cr3[\"maximum_minimum_nights\"] =cr3[\"maximum_minimum_nights\"].fillna(method=\"ffill\")\n",
    "valores=cr3.isnull().sum()\n",
    "valores "
   ]
  },
  {
   "cell_type": "code",
   "execution_count": null,
   "metadata": {},
   "outputs": [],
   "source": [
    "cr3[\"minimum_maximum_nights\"] =cr3[\"minimum_maximum_nights\"].fillna(method=\"ffill\")\n",
    "valores=cr3.isnull().sum()\n",
    "valores "
   ]
  },
  {
   "cell_type": "code",
   "execution_count": null,
   "metadata": {},
   "outputs": [],
   "source": [
    "cr3[\"maximum_maximum_nights\"] =cr3[\"maximum_maximum_nights\"].fillna(method=\"ffill\")\n",
    "valores=cr3.isnull().sum()\n",
    "valores "
   ]
  },
  {
   "cell_type": "code",
   "execution_count": null,
   "metadata": {},
   "outputs": [],
   "source": [
    "cr3[\"minimum_nights_avg_ntm\"] =cr3[\"minimum_nights_avg_ntm\"].fillna(method=\"ffill\")\n",
    "valores=cr3.isnull().sum()\n",
    "valores "
   ]
  },
  {
   "cell_type": "code",
   "execution_count": null,
   "metadata": {},
   "outputs": [],
   "source": [
    "cr3[\"maximum_nights_avg_ntm\"] =cr3[\"maximum_nights_avg_ntm\"].fillna(method=\"ffill\")\n",
    "valores=cr3.isnull().sum()\n",
    "valores "
   ]
  },
  {
   "cell_type": "code",
   "execution_count": null,
   "metadata": {},
   "outputs": [],
   "source": [
    "cr3[\"minimum_nights\"] =cr3[\"minimum_nights\"].fillna(method=\"ffill\")\n",
    "valores=cr3.isnull().sum()\n",
    "valores "
   ]
  },
  {
   "cell_type": "code",
   "execution_count": null,
   "metadata": {},
   "outputs": [],
   "source": [
    "cr3[\"maximum_nights\"] =cr3[\"maximum_nights\"].fillna(method=\"ffill\")\n",
    "valores=cr3.isnull().sum()\n",
    "valores "
   ]
  },
  {
   "cell_type": "code",
   "execution_count": null,
   "metadata": {},
   "outputs": [],
   "source": [
    "cr3[\"review_scores_rating\"]=cr3[\"review_scores_rating\"].fillna(round(cr3[\"review_scores_rating\"].mean(),2))\n",
    "valores=cr3.isnull().sum()\n",
    "valores"
   ]
  },
  {
   "cell_type": "code",
   "execution_count": null,
   "metadata": {},
   "outputs": [],
   "source": [
    "cr3[\"review_scores_accuracy\"]=cr3[\"review_scores_accuracy\"].fillna(round(cr3[\"review_scores_accuracy\"].mean(),2))\n",
    "valores=cr3.isnull().sum()\n",
    "valores"
   ]
  },
  {
   "cell_type": "code",
   "execution_count": null,
   "metadata": {},
   "outputs": [],
   "source": [
    "cr3[\"review_scores_cleanliness\"]=cr3[\"review_scores_cleanliness\"].fillna(round(cr3[\"review_scores_cleanliness\"].mean(),2))\n",
    "valores=cr3.isnull().sum()\n",
    "valores"
   ]
  },
  {
   "cell_type": "code",
   "execution_count": null,
   "metadata": {},
   "outputs": [],
   "source": [
    "cr3[\"review_scores_checkin\"]=cr3[\"review_scores_checkin\"].fillna(round(cr3[\"review_scores_checkin\"].mean(),2))\n",
    "valores=cr3.isnull().sum()\n",
    "valores"
   ]
  },
  {
   "cell_type": "code",
   "execution_count": null,
   "metadata": {},
   "outputs": [],
   "source": [
    "cr3[\"review_scores_communication\"]=cr3[\"review_scores_communication\"].fillna(round(cr3[\"review_scores_communication\"].mean(),2))\n",
    "valores=cr3.isnull().sum()\n",
    "valores"
   ]
  },
  {
   "cell_type": "code",
   "execution_count": null,
   "metadata": {},
   "outputs": [],
   "source": [
    "cr3[\"review_scores_location\"]=cr3[\"review_scores_location\"].fillna(round(cr3[\"review_scores_location\"].mean(),2))\n",
    "valores=cr3.isnull().sum()\n",
    "valores"
   ]
  },
  {
   "cell_type": "code",
   "execution_count": null,
   "metadata": {},
   "outputs": [],
   "source": [
    "cr3[\"review_scores_value\"]=cr3[\"review_scores_value\"].fillna(round(cr3[\"review_scores_value\"].mean(),2))\n",
    "valores=cr3.isnull().sum()\n",
    "valores"
   ]
  },
  {
   "cell_type": "code",
   "execution_count": null,
   "metadata": {},
   "outputs": [],
   "source": [
    "cr3[\"reviews_per_month\"]=cr3[\"reviews_per_month\"].fillna(round(cr3[\"reviews_per_month\"].mean(),2))\n",
    "valores=cr3.isnull().sum()\n",
    "valores"
   ]
  },
  {
   "cell_type": "code",
   "execution_count": null,
   "metadata": {},
   "outputs": [],
   "source": [
    "cr3[\"price\"]=cr3[\"price\"].fillna(round(cr3[\"price\"].mean(),2))\n",
    "valores=cr3.isnull().sum()\n",
    "valores"
   ]
  },
  {
   "cell_type": "markdown",
   "metadata": {},
   "source": [
    "Una vez temrinada la limpieza, uniremos los dataframes y los utilizaremos para realizar los filtros solicitados."
   ]
  },
  {
   "cell_type": "code",
   "execution_count": null,
   "metadata": {},
   "outputs": [],
   "source": [
    "limpio=pd.concat([cr3,mm2],axis=1)\n",
    "valores=limpio.isnull().sum()\n",
    "valores"
   ]
  },
  {
   "cell_type": "code",
   "execution_count": null,
   "metadata": {},
   "outputs": [],
   "source": [
    "\n",
    "plt.boxplot(limpio[\"price\"])"
   ]
  },
  {
   "cell_type": "code",
   "execution_count": null,
   "metadata": {},
   "outputs": [],
   "source": [
    "limpio.to_csv(\"DF_Mexico_Limpio.csv\")"
   ]
  },
  {
   "cell_type": "markdown",
   "metadata": {},
   "source": [
    "ETAPA 2\n",
    "Extracción de datos"
   ]
  },
  {
   "cell_type": "markdown",
   "metadata": {},
   "source": [
    "En esta parte comenzaremos con la extracción de los datos ne base a las peticiones de la actividad, estas son:\n",
    "a) host_acceptance_rate> 50%\n",
    "b) Sólo los registros con categoría “superhost”\n",
    "c) Los registros que no hallan verificado identidad “ not identity_verified”\n",
    "d) Los registro cuyo property_type = “Private room” y “Hotel room”\n",
    "e) Los registros que cuenten con bathroom > 1\n",
    "f) Los registros cuyo precio sea mayor de $10,000 y que sean de tipo “Entire home”\n",
    "g) Los registros cuyo review_scores_cleanliness > 4.5\n",
    "h) Los registros cuyo review_scores_value > 4.9\n",
    "i) Los registros cuya availability_365< 100\n",
    "j) Los registros cuya host_response_time sea “within an hour”"
   ]
  },
  {
   "cell_type": "code",
   "execution_count": null,
   "metadata": {},
   "outputs": [],
   "source": [
    "#filtro1\n",
    "filtro1=limpio[limpio[\"host_acceptance_rate\"]>\"50%\"]\n",
    "print(filtro1)\n",
    "filtro1.to_csv(\"filtro1.csv\")"
   ]
  },
  {
   "cell_type": "code",
   "execution_count": null,
   "metadata": {},
   "outputs": [],
   "source": [
    "#filtro2\n",
    "filtro2=limpio[limpio[\"host_is_superhost\"]==\"t\"]\n",
    "print(filtro2)\n",
    "filtro2.to_csv(\"filtro2.csv\")"
   ]
  },
  {
   "cell_type": "code",
   "execution_count": null,
   "metadata": {},
   "outputs": [],
   "source": [
    "#filtro3\n",
    "filtro3=limpio[limpio[\"host_identity_verified\"]==\"f\"]\n",
    "print(filtro3)\n",
    "filtro3.to_csv(\"filtro3.csv\")"
   ]
  },
  {
   "cell_type": "code",
   "execution_count": null,
   "metadata": {},
   "outputs": [],
   "source": [
    "#filtro4\n",
    "filtro4=limpio[(limpio[\"property_type\"]==\"Private room\") & (limpio[\"room_type\"]==\"Hotel room\")]\n",
    "filtro4\n",
    "filtro4.to_csv(\"filtro4.csv\")"
   ]
  },
  {
   "cell_type": "code",
   "execution_count": null,
   "metadata": {},
   "outputs": [],
   "source": [
    "#filtro 5\n",
    "filtro5=limpio[limpio[\"bathrooms1\"] >1]\n",
    "print(filtro5)\n",
    "filtro5.to_csv(\"filtro5.csv\")"
   ]
  },
  {
   "cell_type": "code",
   "execution_count": null,
   "metadata": {},
   "outputs": [],
   "source": [
    "#filtro6\n",
    "filtro6=limpio[(limpio[\"room_type\"]==\"Entire home/apt\") & (limpio[\"price\"]>10000)]\n",
    "filtro6\n",
    "filtro6.to_csv(\"filtro6.csv\")"
   ]
  },
  {
   "cell_type": "code",
   "execution_count": null,
   "metadata": {},
   "outputs": [],
   "source": [
    "#filtro7\n",
    "filtro7=limpio[limpio[\"review_scores_cleanliness\"]>4.5]\n",
    "print(filtro7)\n",
    "filtro7.to_csv(\"filtro7.csv\")"
   ]
  },
  {
   "cell_type": "code",
   "execution_count": null,
   "metadata": {},
   "outputs": [],
   "source": [
    "#filtro8\n",
    "filtro8=limpio[limpio[\"review_scores_value\"]>4.9]\n",
    "print(filtro8)\n",
    "filtro8.to_csv(\"filtro8.csv\")\n"
   ]
  },
  {
   "cell_type": "code",
   "execution_count": null,
   "metadata": {},
   "outputs": [],
   "source": [
    "#filtro9\n",
    "filtro9=limpio[limpio[\"availability_365\"]<100]\n",
    "print(filtro9)\n",
    "filtro9.to_csv(\"filtro9.csv\")"
   ]
  },
  {
   "cell_type": "code",
   "execution_count": null,
   "metadata": {},
   "outputs": [],
   "source": [
    "#filtro10\n",
    "filtro10=limpio[limpio[\"host_response_time\"]==\"within an hour\"]\n",
    "print(filtro10)\n",
    "filtro10.to_csv(\"filtro10.csv\")"
   ]
  }
 ],
 "metadata": {
  "kernelspec": {
   "display_name": "Python 3",
   "language": "python",
   "name": "python3"
  },
  "language_info": {
   "codemirror_mode": {
    "name": "ipython",
    "version": 3
   },
   "file_extension": ".py",
   "mimetype": "text/x-python",
   "name": "python",
   "nbconvert_exporter": "python",
   "pygments_lexer": "ipython3",
   "version": "3.11.4"
  },
  "orig_nbformat": 4
 },
 "nbformat": 4,
 "nbformat_minor": 2
}
